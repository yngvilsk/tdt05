{
  "cells": [
    {
      "cell_type": "code",
      "execution_count": null,
      "metadata": {
        "id": "pBxj_CuYKV-z"
      },
      "outputs": [],
      "source": [
        "import pandas as pd\n",
        "import numpy as np\n",
        "import re\n",
        "import nltk\n",
        "from nltk.corpus import stopwords\n",
        "from nltk.stem import PorterStemmer\n",
        "import gensim\n",
        "from gensim.models import Word2Vec\n",
        "from sklearn.model_selection import train_test_split\n",
        "from sklearn.metrics import confusion_matrix\n",
        "from sklearn.metrics import accuracy_score\n",
        "from sklearn.dummy import DummyClassifier\n",
        "from sklearn.metrics import f1_score, precision_score, recall_score\n",
        "from sklearn.feature_extraction.text import CountVectorizer\n",
        "import tensorflow as tf\n",
        "from tensorflow import keras\n",
        "from tensorflow.keras import layers\n",
        "import matplotlib.pyplot as plt\n",
        "import seaborn as sns"
      ]
    },
    {
      "cell_type": "code",
      "execution_count": null,
      "metadata": {
        "colab": {
          "base_uri": "https://localhost:8080/"
        },
        "id": "i3h-KEksNvYT",
        "outputId": "7d91dfab-9521-4cd7-f5b3-63e414d5d0ca"
      },
      "outputs": [
        {
          "output_type": "stream",
          "name": "stderr",
          "text": [
            "[nltk_data] Downloading package stopwords to /root/nltk_data...\n",
            "[nltk_data]   Unzipping corpora/stopwords.zip.\n"
          ]
        },
        {
          "output_type": "execute_result",
          "data": {
            "text/plain": [
              "True"
            ]
          },
          "metadata": {},
          "execution_count": 4
        }
      ],
      "source": [
        "nltk.download('stopwords')"
      ]
    },
    {
      "cell_type": "markdown",
      "metadata": {
        "id": "M7rM93kh8zbT"
      },
      "source": [
        "# Downloading the datasets"
      ]
    },
    {
      "cell_type": "code",
      "execution_count": null,
      "metadata": {
        "id": "0MHxDETQmi0D"
      },
      "outputs": [],
      "source": [
        "! pip install -q kaggle"
      ]
    },
    {
      "cell_type": "code",
      "execution_count": null,
      "metadata": {
        "colab": {
          "base_uri": "https://localhost:8080/",
          "height": 90
        },
        "id": "pKVGZk_NFaUN",
        "outputId": "7256ae3d-963f-4353-f0a9-d36eaddc5259"
      },
      "outputs": [
        {
          "output_type": "display_data",
          "data": {
            "text/plain": [
              "<IPython.core.display.HTML object>"
            ],
            "text/html": [
              "\n",
              "     <input type=\"file\" id=\"files-56e6e8aa-7b24-4fb4-8edd-cc79237783e7\" name=\"files[]\" multiple disabled\n",
              "        style=\"border:none\" />\n",
              "     <output id=\"result-56e6e8aa-7b24-4fb4-8edd-cc79237783e7\">\n",
              "      Upload widget is only available when the cell has been executed in the\n",
              "      current browser session. Please rerun this cell to enable.\n",
              "      </output>\n",
              "      <script>// Copyright 2017 Google LLC\n",
              "//\n",
              "// Licensed under the Apache License, Version 2.0 (the \"License\");\n",
              "// you may not use this file except in compliance with the License.\n",
              "// You may obtain a copy of the License at\n",
              "//\n",
              "//      http://www.apache.org/licenses/LICENSE-2.0\n",
              "//\n",
              "// Unless required by applicable law or agreed to in writing, software\n",
              "// distributed under the License is distributed on an \"AS IS\" BASIS,\n",
              "// WITHOUT WARRANTIES OR CONDITIONS OF ANY KIND, either express or implied.\n",
              "// See the License for the specific language governing permissions and\n",
              "// limitations under the License.\n",
              "\n",
              "/**\n",
              " * @fileoverview Helpers for google.colab Python module.\n",
              " */\n",
              "(function(scope) {\n",
              "function span(text, styleAttributes = {}) {\n",
              "  const element = document.createElement('span');\n",
              "  element.textContent = text;\n",
              "  for (const key of Object.keys(styleAttributes)) {\n",
              "    element.style[key] = styleAttributes[key];\n",
              "  }\n",
              "  return element;\n",
              "}\n",
              "\n",
              "// Max number of bytes which will be uploaded at a time.\n",
              "const MAX_PAYLOAD_SIZE = 100 * 1024;\n",
              "\n",
              "function _uploadFiles(inputId, outputId) {\n",
              "  const steps = uploadFilesStep(inputId, outputId);\n",
              "  const outputElement = document.getElementById(outputId);\n",
              "  // Cache steps on the outputElement to make it available for the next call\n",
              "  // to uploadFilesContinue from Python.\n",
              "  outputElement.steps = steps;\n",
              "\n",
              "  return _uploadFilesContinue(outputId);\n",
              "}\n",
              "\n",
              "// This is roughly an async generator (not supported in the browser yet),\n",
              "// where there are multiple asynchronous steps and the Python side is going\n",
              "// to poll for completion of each step.\n",
              "// This uses a Promise to block the python side on completion of each step,\n",
              "// then passes the result of the previous step as the input to the next step.\n",
              "function _uploadFilesContinue(outputId) {\n",
              "  const outputElement = document.getElementById(outputId);\n",
              "  const steps = outputElement.steps;\n",
              "\n",
              "  const next = steps.next(outputElement.lastPromiseValue);\n",
              "  return Promise.resolve(next.value.promise).then((value) => {\n",
              "    // Cache the last promise value to make it available to the next\n",
              "    // step of the generator.\n",
              "    outputElement.lastPromiseValue = value;\n",
              "    return next.value.response;\n",
              "  });\n",
              "}\n",
              "\n",
              "/**\n",
              " * Generator function which is called between each async step of the upload\n",
              " * process.\n",
              " * @param {string} inputId Element ID of the input file picker element.\n",
              " * @param {string} outputId Element ID of the output display.\n",
              " * @return {!Iterable<!Object>} Iterable of next steps.\n",
              " */\n",
              "function* uploadFilesStep(inputId, outputId) {\n",
              "  const inputElement = document.getElementById(inputId);\n",
              "  inputElement.disabled = false;\n",
              "\n",
              "  const outputElement = document.getElementById(outputId);\n",
              "  outputElement.innerHTML = '';\n",
              "\n",
              "  const pickedPromise = new Promise((resolve) => {\n",
              "    inputElement.addEventListener('change', (e) => {\n",
              "      resolve(e.target.files);\n",
              "    });\n",
              "  });\n",
              "\n",
              "  const cancel = document.createElement('button');\n",
              "  inputElement.parentElement.appendChild(cancel);\n",
              "  cancel.textContent = 'Cancel upload';\n",
              "  const cancelPromise = new Promise((resolve) => {\n",
              "    cancel.onclick = () => {\n",
              "      resolve(null);\n",
              "    };\n",
              "  });\n",
              "\n",
              "  // Wait for the user to pick the files.\n",
              "  const files = yield {\n",
              "    promise: Promise.race([pickedPromise, cancelPromise]),\n",
              "    response: {\n",
              "      action: 'starting',\n",
              "    }\n",
              "  };\n",
              "\n",
              "  cancel.remove();\n",
              "\n",
              "  // Disable the input element since further picks are not allowed.\n",
              "  inputElement.disabled = true;\n",
              "\n",
              "  if (!files) {\n",
              "    return {\n",
              "      response: {\n",
              "        action: 'complete',\n",
              "      }\n",
              "    };\n",
              "  }\n",
              "\n",
              "  for (const file of files) {\n",
              "    const li = document.createElement('li');\n",
              "    li.append(span(file.name, {fontWeight: 'bold'}));\n",
              "    li.append(span(\n",
              "        `(${file.type || 'n/a'}) - ${file.size} bytes, ` +\n",
              "        `last modified: ${\n",
              "            file.lastModifiedDate ? file.lastModifiedDate.toLocaleDateString() :\n",
              "                                    'n/a'} - `));\n",
              "    const percent = span('0% done');\n",
              "    li.appendChild(percent);\n",
              "\n",
              "    outputElement.appendChild(li);\n",
              "\n",
              "    const fileDataPromise = new Promise((resolve) => {\n",
              "      const reader = new FileReader();\n",
              "      reader.onload = (e) => {\n",
              "        resolve(e.target.result);\n",
              "      };\n",
              "      reader.readAsArrayBuffer(file);\n",
              "    });\n",
              "    // Wait for the data to be ready.\n",
              "    let fileData = yield {\n",
              "      promise: fileDataPromise,\n",
              "      response: {\n",
              "        action: 'continue',\n",
              "      }\n",
              "    };\n",
              "\n",
              "    // Use a chunked sending to avoid message size limits. See b/62115660.\n",
              "    let position = 0;\n",
              "    do {\n",
              "      const length = Math.min(fileData.byteLength - position, MAX_PAYLOAD_SIZE);\n",
              "      const chunk = new Uint8Array(fileData, position, length);\n",
              "      position += length;\n",
              "\n",
              "      const base64 = btoa(String.fromCharCode.apply(null, chunk));\n",
              "      yield {\n",
              "        response: {\n",
              "          action: 'append',\n",
              "          file: file.name,\n",
              "          data: base64,\n",
              "        },\n",
              "      };\n",
              "\n",
              "      let percentDone = fileData.byteLength === 0 ?\n",
              "          100 :\n",
              "          Math.round((position / fileData.byteLength) * 100);\n",
              "      percent.textContent = `${percentDone}% done`;\n",
              "\n",
              "    } while (position < fileData.byteLength);\n",
              "  }\n",
              "\n",
              "  // All done.\n",
              "  yield {\n",
              "    response: {\n",
              "      action: 'complete',\n",
              "    }\n",
              "  };\n",
              "}\n",
              "\n",
              "scope.google = scope.google || {};\n",
              "scope.google.colab = scope.google.colab || {};\n",
              "scope.google.colab._files = {\n",
              "  _uploadFiles,\n",
              "  _uploadFilesContinue,\n",
              "};\n",
              "})(self);\n",
              "</script> "
            ]
          },
          "metadata": {}
        },
        {
          "output_type": "stream",
          "name": "stdout",
          "text": [
            "Saving kaggle.json to kaggle.json\n"
          ]
        },
        {
          "output_type": "execute_result",
          "data": {
            "text/plain": [
              "{'kaggle.json': b'{\"username\":\"yngvilskomedal\",\"key\":\"dda46b3019295c90f6cacd3c8101678d\"}'}"
            ]
          },
          "metadata": {},
          "execution_count": 6
        }
      ],
      "source": [
        "from google.colab import files\n",
        "files.upload()"
      ]
    },
    {
      "cell_type": "code",
      "execution_count": null,
      "metadata": {
        "id": "S13fbu_unBgr"
      },
      "outputs": [],
      "source": [
        "! mkdir ~/.kaggle\n",
        "! cp kaggle.json ~/.kaggle/\n",
        "! chmod 600 ~/.kaggle/kaggle.json"
      ]
    },
    {
      "cell_type": "code",
      "execution_count": null,
      "metadata": {
        "colab": {
          "base_uri": "https://localhost:8080/"
        },
        "id": "0GkSLwq9nFxj",
        "outputId": "d2b20384-fccf-4a7f-8ae3-5c13b29d9787"
      },
      "outputs": [
        {
          "output_type": "stream",
          "name": "stdout",
          "text": [
            "Downloading sentiment140.zip to /content\n",
            " 91% 74.0M/80.9M [00:00<00:00, 193MB/s]\n",
            "100% 80.9M/80.9M [00:00<00:00, 168MB/s]\n",
            "Downloading how-isis-uses-twitter.zip to /content\n",
            "  0% 0.00/2.37M [00:00<?, ?B/s]\n",
            "100% 2.37M/2.37M [00:00<00:00, 92.0MB/s]\n"
          ]
        }
      ],
      "source": [
        "!kaggle datasets download -d kazanova/sentiment140\n",
        "!kaggle datasets download -d fifthtribe/how-isis-uses-twitter"
      ]
    },
    {
      "cell_type": "code",
      "execution_count": null,
      "metadata": {
        "id": "zOZjio4inIeb"
      },
      "outputs": [],
      "source": [
        "! mkdir datasets"
      ]
    },
    {
      "cell_type": "code",
      "execution_count": null,
      "metadata": {
        "colab": {
          "base_uri": "https://localhost:8080/"
        },
        "id": "O5eBXOT1offS",
        "outputId": "46c688d4-ca6d-4212-b4cf-e57cd58fca5c"
      },
      "outputs": [
        {
          "output_type": "stream",
          "name": "stdout",
          "text": [
            "Archive:  sentiment140.zip\n",
            "  inflating: /content/datasets/training.1600000.processed.noemoticon.csv  \n",
            "Archive:  how-isis-uses-twitter.zip\n",
            "  inflating: /content/datasets/tweets.csv  \n",
            "  inflating: /content/datasets/tweets.xlsx  \n"
          ]
        }
      ],
      "source": [
        "!unzip sentiment140.zip -d /content/datasets\n",
        "!unzip how-isis-uses-twitter.zip -d /content/datasets"
      ]
    },
    {
      "cell_type": "markdown",
      "metadata": {
        "id": "aoUegHP19Uqh"
      },
      "source": [
        "# Initializing variables"
      ]
    },
    {
      "cell_type": "code",
      "execution_count": null,
      "metadata": {
        "id": "ttDI1PVRL96e"
      },
      "outputs": [],
      "source": [
        "# Dataset\n",
        "NEUTRAL_DATASET_PATH = '/content/datasets/training.1600000.processed.noemoticon.csv'\n",
        "RADICAL_DATASET_PATH =  '/content/datasets/tweets.csv'\n",
        "TRAIN_SIZE = 0.8\n",
        "\n",
        "# Text Cleaning\n",
        "stemmer = PorterStemmer()\n"
      ]
    },
    {
      "cell_type": "markdown",
      "metadata": {
        "id": "aTXknal09fAp"
      },
      "source": [
        "# Loading the data and data preprocessing"
      ]
    },
    {
      "cell_type": "code",
      "execution_count": null,
      "metadata": {
        "id": "bYpUQpesKldT"
      },
      "outputs": [],
      "source": [
        "df_radical = pd.read_csv(RADICAL_DATASET_PATH)"
      ]
    },
    {
      "cell_type": "code",
      "execution_count": null,
      "metadata": {
        "id": "uXKN1SduWBtR"
      },
      "outputs": [],
      "source": [
        "# Keep only the column containing the tweets\n",
        "df_radical = df_radical.filter(['tweets'], axis=1)\n",
        "df_radical['is_radical'] = 1"
      ]
    },
    {
      "cell_type": "code",
      "execution_count": null,
      "metadata": {
        "colab": {
          "base_uri": "https://localhost:8080/",
          "height": 206
        },
        "id": "Y7mOM1I6WS3w",
        "outputId": "a230df91-52a6-40fe-ba67-354a6c42ae5c"
      },
      "outputs": [
        {
          "output_type": "execute_result",
          "data": {
            "text/plain": [
              "                                              tweets  is_radical\n",
              "0  ENGLISH TRANSLATION: 'A MESSAGE TO THE TRUTHFU...           1\n",
              "1  ENGLISH TRANSLATION: SHEIKH FATIH AL JAWLANI '...           1\n",
              "2  ENGLISH TRANSLATION: FIRST AUDIO MEETING WITH ...           1\n",
              "3  ENGLISH TRANSLATION: SHEIKH NASIR AL WUHAYSHI ...           1\n",
              "4  ENGLISH TRANSLATION: AQAP: 'RESPONSE TO SHEIKH...           1"
            ],
            "text/html": [
              "\n",
              "  <div id=\"df-725fc506-c92b-4370-b7d8-75f5bd251d3e\" class=\"colab-df-container\">\n",
              "    <div>\n",
              "<style scoped>\n",
              "    .dataframe tbody tr th:only-of-type {\n",
              "        vertical-align: middle;\n",
              "    }\n",
              "\n",
              "    .dataframe tbody tr th {\n",
              "        vertical-align: top;\n",
              "    }\n",
              "\n",
              "    .dataframe thead th {\n",
              "        text-align: right;\n",
              "    }\n",
              "</style>\n",
              "<table border=\"1\" class=\"dataframe\">\n",
              "  <thead>\n",
              "    <tr style=\"text-align: right;\">\n",
              "      <th></th>\n",
              "      <th>tweets</th>\n",
              "      <th>is_radical</th>\n",
              "    </tr>\n",
              "  </thead>\n",
              "  <tbody>\n",
              "    <tr>\n",
              "      <th>0</th>\n",
              "      <td>ENGLISH TRANSLATION: 'A MESSAGE TO THE TRUTHFU...</td>\n",
              "      <td>1</td>\n",
              "    </tr>\n",
              "    <tr>\n",
              "      <th>1</th>\n",
              "      <td>ENGLISH TRANSLATION: SHEIKH FATIH AL JAWLANI '...</td>\n",
              "      <td>1</td>\n",
              "    </tr>\n",
              "    <tr>\n",
              "      <th>2</th>\n",
              "      <td>ENGLISH TRANSLATION: FIRST AUDIO MEETING WITH ...</td>\n",
              "      <td>1</td>\n",
              "    </tr>\n",
              "    <tr>\n",
              "      <th>3</th>\n",
              "      <td>ENGLISH TRANSLATION: SHEIKH NASIR AL WUHAYSHI ...</td>\n",
              "      <td>1</td>\n",
              "    </tr>\n",
              "    <tr>\n",
              "      <th>4</th>\n",
              "      <td>ENGLISH TRANSLATION: AQAP: 'RESPONSE TO SHEIKH...</td>\n",
              "      <td>1</td>\n",
              "    </tr>\n",
              "  </tbody>\n",
              "</table>\n",
              "</div>\n",
              "    <div class=\"colab-df-buttons\">\n",
              "\n",
              "  <div class=\"colab-df-container\">\n",
              "    <button class=\"colab-df-convert\" onclick=\"convertToInteractive('df-725fc506-c92b-4370-b7d8-75f5bd251d3e')\"\n",
              "            title=\"Convert this dataframe to an interactive table.\"\n",
              "            style=\"display:none;\">\n",
              "\n",
              "  <svg xmlns=\"http://www.w3.org/2000/svg\" height=\"24px\" viewBox=\"0 -960 960 960\">\n",
              "    <path d=\"M120-120v-720h720v720H120Zm60-500h600v-160H180v160Zm220 220h160v-160H400v160Zm0 220h160v-160H400v160ZM180-400h160v-160H180v160Zm440 0h160v-160H620v160ZM180-180h160v-160H180v160Zm440 0h160v-160H620v160Z\"/>\n",
              "  </svg>\n",
              "    </button>\n",
              "\n",
              "  <style>\n",
              "    .colab-df-container {\n",
              "      display:flex;\n",
              "      gap: 12px;\n",
              "    }\n",
              "\n",
              "    .colab-df-convert {\n",
              "      background-color: #E8F0FE;\n",
              "      border: none;\n",
              "      border-radius: 50%;\n",
              "      cursor: pointer;\n",
              "      display: none;\n",
              "      fill: #1967D2;\n",
              "      height: 32px;\n",
              "      padding: 0 0 0 0;\n",
              "      width: 32px;\n",
              "    }\n",
              "\n",
              "    .colab-df-convert:hover {\n",
              "      background-color: #E2EBFA;\n",
              "      box-shadow: 0px 1px 2px rgba(60, 64, 67, 0.3), 0px 1px 3px 1px rgba(60, 64, 67, 0.15);\n",
              "      fill: #174EA6;\n",
              "    }\n",
              "\n",
              "    .colab-df-buttons div {\n",
              "      margin-bottom: 4px;\n",
              "    }\n",
              "\n",
              "    [theme=dark] .colab-df-convert {\n",
              "      background-color: #3B4455;\n",
              "      fill: #D2E3FC;\n",
              "    }\n",
              "\n",
              "    [theme=dark] .colab-df-convert:hover {\n",
              "      background-color: #434B5C;\n",
              "      box-shadow: 0px 1px 3px 1px rgba(0, 0, 0, 0.15);\n",
              "      filter: drop-shadow(0px 1px 2px rgba(0, 0, 0, 0.3));\n",
              "      fill: #FFFFFF;\n",
              "    }\n",
              "  </style>\n",
              "\n",
              "    <script>\n",
              "      const buttonEl =\n",
              "        document.querySelector('#df-725fc506-c92b-4370-b7d8-75f5bd251d3e button.colab-df-convert');\n",
              "      buttonEl.style.display =\n",
              "        google.colab.kernel.accessAllowed ? 'block' : 'none';\n",
              "\n",
              "      async function convertToInteractive(key) {\n",
              "        const element = document.querySelector('#df-725fc506-c92b-4370-b7d8-75f5bd251d3e');\n",
              "        const dataTable =\n",
              "          await google.colab.kernel.invokeFunction('convertToInteractive',\n",
              "                                                    [key], {});\n",
              "        if (!dataTable) return;\n",
              "\n",
              "        const docLinkHtml = 'Like what you see? Visit the ' +\n",
              "          '<a target=\"_blank\" href=https://colab.research.google.com/notebooks/data_table.ipynb>data table notebook</a>'\n",
              "          + ' to learn more about interactive tables.';\n",
              "        element.innerHTML = '';\n",
              "        dataTable['output_type'] = 'display_data';\n",
              "        await google.colab.output.renderOutput(dataTable, element);\n",
              "        const docLink = document.createElement('div');\n",
              "        docLink.innerHTML = docLinkHtml;\n",
              "        element.appendChild(docLink);\n",
              "      }\n",
              "    </script>\n",
              "  </div>\n",
              "\n",
              "\n",
              "<div id=\"df-da628a70-9632-473c-b568-259ba8ecf9c3\">\n",
              "  <button class=\"colab-df-quickchart\" onclick=\"quickchart('df-da628a70-9632-473c-b568-259ba8ecf9c3')\"\n",
              "            title=\"Suggest charts\"\n",
              "            style=\"display:none;\">\n",
              "\n",
              "<svg xmlns=\"http://www.w3.org/2000/svg\" height=\"24px\"viewBox=\"0 0 24 24\"\n",
              "     width=\"24px\">\n",
              "    <g>\n",
              "        <path d=\"M19 3H5c-1.1 0-2 .9-2 2v14c0 1.1.9 2 2 2h14c1.1 0 2-.9 2-2V5c0-1.1-.9-2-2-2zM9 17H7v-7h2v7zm4 0h-2V7h2v10zm4 0h-2v-4h2v4z\"/>\n",
              "    </g>\n",
              "</svg>\n",
              "  </button>\n",
              "\n",
              "<style>\n",
              "  .colab-df-quickchart {\n",
              "      --bg-color: #E8F0FE;\n",
              "      --fill-color: #1967D2;\n",
              "      --hover-bg-color: #E2EBFA;\n",
              "      --hover-fill-color: #174EA6;\n",
              "      --disabled-fill-color: #AAA;\n",
              "      --disabled-bg-color: #DDD;\n",
              "  }\n",
              "\n",
              "  [theme=dark] .colab-df-quickchart {\n",
              "      --bg-color: #3B4455;\n",
              "      --fill-color: #D2E3FC;\n",
              "      --hover-bg-color: #434B5C;\n",
              "      --hover-fill-color: #FFFFFF;\n",
              "      --disabled-bg-color: #3B4455;\n",
              "      --disabled-fill-color: #666;\n",
              "  }\n",
              "\n",
              "  .colab-df-quickchart {\n",
              "    background-color: var(--bg-color);\n",
              "    border: none;\n",
              "    border-radius: 50%;\n",
              "    cursor: pointer;\n",
              "    display: none;\n",
              "    fill: var(--fill-color);\n",
              "    height: 32px;\n",
              "    padding: 0;\n",
              "    width: 32px;\n",
              "  }\n",
              "\n",
              "  .colab-df-quickchart:hover {\n",
              "    background-color: var(--hover-bg-color);\n",
              "    box-shadow: 0 1px 2px rgba(60, 64, 67, 0.3), 0 1px 3px 1px rgba(60, 64, 67, 0.15);\n",
              "    fill: var(--button-hover-fill-color);\n",
              "  }\n",
              "\n",
              "  .colab-df-quickchart-complete:disabled,\n",
              "  .colab-df-quickchart-complete:disabled:hover {\n",
              "    background-color: var(--disabled-bg-color);\n",
              "    fill: var(--disabled-fill-color);\n",
              "    box-shadow: none;\n",
              "  }\n",
              "\n",
              "  .colab-df-spinner {\n",
              "    border: 2px solid var(--fill-color);\n",
              "    border-color: transparent;\n",
              "    border-bottom-color: var(--fill-color);\n",
              "    animation:\n",
              "      spin 1s steps(1) infinite;\n",
              "  }\n",
              "\n",
              "  @keyframes spin {\n",
              "    0% {\n",
              "      border-color: transparent;\n",
              "      border-bottom-color: var(--fill-color);\n",
              "      border-left-color: var(--fill-color);\n",
              "    }\n",
              "    20% {\n",
              "      border-color: transparent;\n",
              "      border-left-color: var(--fill-color);\n",
              "      border-top-color: var(--fill-color);\n",
              "    }\n",
              "    30% {\n",
              "      border-color: transparent;\n",
              "      border-left-color: var(--fill-color);\n",
              "      border-top-color: var(--fill-color);\n",
              "      border-right-color: var(--fill-color);\n",
              "    }\n",
              "    40% {\n",
              "      border-color: transparent;\n",
              "      border-right-color: var(--fill-color);\n",
              "      border-top-color: var(--fill-color);\n",
              "    }\n",
              "    60% {\n",
              "      border-color: transparent;\n",
              "      border-right-color: var(--fill-color);\n",
              "    }\n",
              "    80% {\n",
              "      border-color: transparent;\n",
              "      border-right-color: var(--fill-color);\n",
              "      border-bottom-color: var(--fill-color);\n",
              "    }\n",
              "    90% {\n",
              "      border-color: transparent;\n",
              "      border-bottom-color: var(--fill-color);\n",
              "    }\n",
              "  }\n",
              "</style>\n",
              "\n",
              "  <script>\n",
              "    async function quickchart(key) {\n",
              "      const quickchartButtonEl =\n",
              "        document.querySelector('#' + key + ' button');\n",
              "      quickchartButtonEl.disabled = true;  // To prevent multiple clicks.\n",
              "      quickchartButtonEl.classList.add('colab-df-spinner');\n",
              "      try {\n",
              "        const charts = await google.colab.kernel.invokeFunction(\n",
              "            'suggestCharts', [key], {});\n",
              "      } catch (error) {\n",
              "        console.error('Error during call to suggestCharts:', error);\n",
              "      }\n",
              "      quickchartButtonEl.classList.remove('colab-df-spinner');\n",
              "      quickchartButtonEl.classList.add('colab-df-quickchart-complete');\n",
              "    }\n",
              "    (() => {\n",
              "      let quickchartButtonEl =\n",
              "        document.querySelector('#df-da628a70-9632-473c-b568-259ba8ecf9c3 button');\n",
              "      quickchartButtonEl.style.display =\n",
              "        google.colab.kernel.accessAllowed ? 'block' : 'none';\n",
              "    })();\n",
              "  </script>\n",
              "</div>\n",
              "    </div>\n",
              "  </div>\n"
            ]
          },
          "metadata": {},
          "execution_count": 14
        }
      ],
      "source": [
        "df_radical.head()"
      ]
    },
    {
      "cell_type": "code",
      "execution_count": null,
      "metadata": {
        "id": "QBkDWyc2DVeA"
      },
      "outputs": [],
      "source": [
        "df_non_radical = pd.read_csv(NEUTRAL_DATASET_PATH, encoding='ISO-8859-1', names=['target', 'ids', 'date', 'flag', 'user', 'text'])"
      ]
    },
    {
      "cell_type": "code",
      "execution_count": null,
      "metadata": {
        "colab": {
          "base_uri": "https://localhost:8080/"
        },
        "id": "OAS2YKp0GfAl",
        "outputId": "6e2beae3-0371-4cca-c962-0355fc349e87"
      },
      "outputs": [
        {
          "output_type": "execute_result",
          "data": {
            "text/plain": [
              "0    800000\n",
              "4    800000\n",
              "Name: target, dtype: int64"
            ]
          },
          "metadata": {},
          "execution_count": 16
        }
      ],
      "source": [
        "# How many tweets are annotated negative (0) and positive (4)\n",
        "df_non_radical.target.value_counts()"
      ]
    },
    {
      "cell_type": "code",
      "execution_count": null,
      "metadata": {
        "id": "uI5lQw3XKoM6"
      },
      "outputs": [],
      "source": [
        "# Create a neutral data set containing 50/50 positive and negative tweets\n",
        "negative_tweets = df_non_radical[df_non_radical['target'] == 0].sample(75000)\n",
        "\n",
        "positive_tweets = df_non_radical[df_non_radical['target'] == 4].sample(75000)\n",
        "\n",
        "df_neutral = pd.concat([negative_tweets, positive_tweets])\n",
        "\n",
        "# Keep only the column containing the tweets\n",
        "df_neutral = df_neutral.filter(['text'], axis=1)\n",
        "\n",
        "# Rename 'text' column to 'tweets'\n",
        "df_neutral.rename(columns={'text': 'tweets'}, inplace=True)\n",
        "df_neutral['is_radical'] = 0"
      ]
    },
    {
      "cell_type": "code",
      "execution_count": null,
      "metadata": {
        "colab": {
          "base_uri": "https://localhost:8080/",
          "height": 206
        },
        "id": "OmATuK_XqiQ8",
        "outputId": "db8bf3e0-1a27-484e-e080-61cf632dec75"
      },
      "outputs": [
        {
          "output_type": "execute_result",
          "data": {
            "text/plain": [
              "                                                   tweets  is_radical\n",
              "564351  It has probably been more than a year since I ...           0\n",
              "669946  http://bit.ly/11scsc    nem to acreditando !! ...           0\n",
              "323110  right gettin ready 4 studio bt i cant stand th...           0\n",
              "155620                                       needs a hug            0\n",
              "45562   @khaled white mb battery, online or from Jed? ...           0"
            ],
            "text/html": [
              "\n",
              "  <div id=\"df-367dec5b-3524-4dc7-80f7-0b47e9013da3\" class=\"colab-df-container\">\n",
              "    <div>\n",
              "<style scoped>\n",
              "    .dataframe tbody tr th:only-of-type {\n",
              "        vertical-align: middle;\n",
              "    }\n",
              "\n",
              "    .dataframe tbody tr th {\n",
              "        vertical-align: top;\n",
              "    }\n",
              "\n",
              "    .dataframe thead th {\n",
              "        text-align: right;\n",
              "    }\n",
              "</style>\n",
              "<table border=\"1\" class=\"dataframe\">\n",
              "  <thead>\n",
              "    <tr style=\"text-align: right;\">\n",
              "      <th></th>\n",
              "      <th>tweets</th>\n",
              "      <th>is_radical</th>\n",
              "    </tr>\n",
              "  </thead>\n",
              "  <tbody>\n",
              "    <tr>\n",
              "      <th>564351</th>\n",
              "      <td>It has probably been more than a year since I ...</td>\n",
              "      <td>0</td>\n",
              "    </tr>\n",
              "    <tr>\n",
              "      <th>669946</th>\n",
              "      <td>http://bit.ly/11scsc    nem to acreditando !! ...</td>\n",
              "      <td>0</td>\n",
              "    </tr>\n",
              "    <tr>\n",
              "      <th>323110</th>\n",
              "      <td>right gettin ready 4 studio bt i cant stand th...</td>\n",
              "      <td>0</td>\n",
              "    </tr>\n",
              "    <tr>\n",
              "      <th>155620</th>\n",
              "      <td>needs a hug</td>\n",
              "      <td>0</td>\n",
              "    </tr>\n",
              "    <tr>\n",
              "      <th>45562</th>\n",
              "      <td>@khaled white mb battery, online or from Jed? ...</td>\n",
              "      <td>0</td>\n",
              "    </tr>\n",
              "  </tbody>\n",
              "</table>\n",
              "</div>\n",
              "    <div class=\"colab-df-buttons\">\n",
              "\n",
              "  <div class=\"colab-df-container\">\n",
              "    <button class=\"colab-df-convert\" onclick=\"convertToInteractive('df-367dec5b-3524-4dc7-80f7-0b47e9013da3')\"\n",
              "            title=\"Convert this dataframe to an interactive table.\"\n",
              "            style=\"display:none;\">\n",
              "\n",
              "  <svg xmlns=\"http://www.w3.org/2000/svg\" height=\"24px\" viewBox=\"0 -960 960 960\">\n",
              "    <path d=\"M120-120v-720h720v720H120Zm60-500h600v-160H180v160Zm220 220h160v-160H400v160Zm0 220h160v-160H400v160ZM180-400h160v-160H180v160Zm440 0h160v-160H620v160ZM180-180h160v-160H180v160Zm440 0h160v-160H620v160Z\"/>\n",
              "  </svg>\n",
              "    </button>\n",
              "\n",
              "  <style>\n",
              "    .colab-df-container {\n",
              "      display:flex;\n",
              "      gap: 12px;\n",
              "    }\n",
              "\n",
              "    .colab-df-convert {\n",
              "      background-color: #E8F0FE;\n",
              "      border: none;\n",
              "      border-radius: 50%;\n",
              "      cursor: pointer;\n",
              "      display: none;\n",
              "      fill: #1967D2;\n",
              "      height: 32px;\n",
              "      padding: 0 0 0 0;\n",
              "      width: 32px;\n",
              "    }\n",
              "\n",
              "    .colab-df-convert:hover {\n",
              "      background-color: #E2EBFA;\n",
              "      box-shadow: 0px 1px 2px rgba(60, 64, 67, 0.3), 0px 1px 3px 1px rgba(60, 64, 67, 0.15);\n",
              "      fill: #174EA6;\n",
              "    }\n",
              "\n",
              "    .colab-df-buttons div {\n",
              "      margin-bottom: 4px;\n",
              "    }\n",
              "\n",
              "    [theme=dark] .colab-df-convert {\n",
              "      background-color: #3B4455;\n",
              "      fill: #D2E3FC;\n",
              "    }\n",
              "\n",
              "    [theme=dark] .colab-df-convert:hover {\n",
              "      background-color: #434B5C;\n",
              "      box-shadow: 0px 1px 3px 1px rgba(0, 0, 0, 0.15);\n",
              "      filter: drop-shadow(0px 1px 2px rgba(0, 0, 0, 0.3));\n",
              "      fill: #FFFFFF;\n",
              "    }\n",
              "  </style>\n",
              "\n",
              "    <script>\n",
              "      const buttonEl =\n",
              "        document.querySelector('#df-367dec5b-3524-4dc7-80f7-0b47e9013da3 button.colab-df-convert');\n",
              "      buttonEl.style.display =\n",
              "        google.colab.kernel.accessAllowed ? 'block' : 'none';\n",
              "\n",
              "      async function convertToInteractive(key) {\n",
              "        const element = document.querySelector('#df-367dec5b-3524-4dc7-80f7-0b47e9013da3');\n",
              "        const dataTable =\n",
              "          await google.colab.kernel.invokeFunction('convertToInteractive',\n",
              "                                                    [key], {});\n",
              "        if (!dataTable) return;\n",
              "\n",
              "        const docLinkHtml = 'Like what you see? Visit the ' +\n",
              "          '<a target=\"_blank\" href=https://colab.research.google.com/notebooks/data_table.ipynb>data table notebook</a>'\n",
              "          + ' to learn more about interactive tables.';\n",
              "        element.innerHTML = '';\n",
              "        dataTable['output_type'] = 'display_data';\n",
              "        await google.colab.output.renderOutput(dataTable, element);\n",
              "        const docLink = document.createElement('div');\n",
              "        docLink.innerHTML = docLinkHtml;\n",
              "        element.appendChild(docLink);\n",
              "      }\n",
              "    </script>\n",
              "  </div>\n",
              "\n",
              "\n",
              "<div id=\"df-5977cecb-d7bf-4be9-83e8-e99be706d0e9\">\n",
              "  <button class=\"colab-df-quickchart\" onclick=\"quickchart('df-5977cecb-d7bf-4be9-83e8-e99be706d0e9')\"\n",
              "            title=\"Suggest charts\"\n",
              "            style=\"display:none;\">\n",
              "\n",
              "<svg xmlns=\"http://www.w3.org/2000/svg\" height=\"24px\"viewBox=\"0 0 24 24\"\n",
              "     width=\"24px\">\n",
              "    <g>\n",
              "        <path d=\"M19 3H5c-1.1 0-2 .9-2 2v14c0 1.1.9 2 2 2h14c1.1 0 2-.9 2-2V5c0-1.1-.9-2-2-2zM9 17H7v-7h2v7zm4 0h-2V7h2v10zm4 0h-2v-4h2v4z\"/>\n",
              "    </g>\n",
              "</svg>\n",
              "  </button>\n",
              "\n",
              "<style>\n",
              "  .colab-df-quickchart {\n",
              "      --bg-color: #E8F0FE;\n",
              "      --fill-color: #1967D2;\n",
              "      --hover-bg-color: #E2EBFA;\n",
              "      --hover-fill-color: #174EA6;\n",
              "      --disabled-fill-color: #AAA;\n",
              "      --disabled-bg-color: #DDD;\n",
              "  }\n",
              "\n",
              "  [theme=dark] .colab-df-quickchart {\n",
              "      --bg-color: #3B4455;\n",
              "      --fill-color: #D2E3FC;\n",
              "      --hover-bg-color: #434B5C;\n",
              "      --hover-fill-color: #FFFFFF;\n",
              "      --disabled-bg-color: #3B4455;\n",
              "      --disabled-fill-color: #666;\n",
              "  }\n",
              "\n",
              "  .colab-df-quickchart {\n",
              "    background-color: var(--bg-color);\n",
              "    border: none;\n",
              "    border-radius: 50%;\n",
              "    cursor: pointer;\n",
              "    display: none;\n",
              "    fill: var(--fill-color);\n",
              "    height: 32px;\n",
              "    padding: 0;\n",
              "    width: 32px;\n",
              "  }\n",
              "\n",
              "  .colab-df-quickchart:hover {\n",
              "    background-color: var(--hover-bg-color);\n",
              "    box-shadow: 0 1px 2px rgba(60, 64, 67, 0.3), 0 1px 3px 1px rgba(60, 64, 67, 0.15);\n",
              "    fill: var(--button-hover-fill-color);\n",
              "  }\n",
              "\n",
              "  .colab-df-quickchart-complete:disabled,\n",
              "  .colab-df-quickchart-complete:disabled:hover {\n",
              "    background-color: var(--disabled-bg-color);\n",
              "    fill: var(--disabled-fill-color);\n",
              "    box-shadow: none;\n",
              "  }\n",
              "\n",
              "  .colab-df-spinner {\n",
              "    border: 2px solid var(--fill-color);\n",
              "    border-color: transparent;\n",
              "    border-bottom-color: var(--fill-color);\n",
              "    animation:\n",
              "      spin 1s steps(1) infinite;\n",
              "  }\n",
              "\n",
              "  @keyframes spin {\n",
              "    0% {\n",
              "      border-color: transparent;\n",
              "      border-bottom-color: var(--fill-color);\n",
              "      border-left-color: var(--fill-color);\n",
              "    }\n",
              "    20% {\n",
              "      border-color: transparent;\n",
              "      border-left-color: var(--fill-color);\n",
              "      border-top-color: var(--fill-color);\n",
              "    }\n",
              "    30% {\n",
              "      border-color: transparent;\n",
              "      border-left-color: var(--fill-color);\n",
              "      border-top-color: var(--fill-color);\n",
              "      border-right-color: var(--fill-color);\n",
              "    }\n",
              "    40% {\n",
              "      border-color: transparent;\n",
              "      border-right-color: var(--fill-color);\n",
              "      border-top-color: var(--fill-color);\n",
              "    }\n",
              "    60% {\n",
              "      border-color: transparent;\n",
              "      border-right-color: var(--fill-color);\n",
              "    }\n",
              "    80% {\n",
              "      border-color: transparent;\n",
              "      border-right-color: var(--fill-color);\n",
              "      border-bottom-color: var(--fill-color);\n",
              "    }\n",
              "    90% {\n",
              "      border-color: transparent;\n",
              "      border-bottom-color: var(--fill-color);\n",
              "    }\n",
              "  }\n",
              "</style>\n",
              "\n",
              "  <script>\n",
              "    async function quickchart(key) {\n",
              "      const quickchartButtonEl =\n",
              "        document.querySelector('#' + key + ' button');\n",
              "      quickchartButtonEl.disabled = true;  // To prevent multiple clicks.\n",
              "      quickchartButtonEl.classList.add('colab-df-spinner');\n",
              "      try {\n",
              "        const charts = await google.colab.kernel.invokeFunction(\n",
              "            'suggestCharts', [key], {});\n",
              "      } catch (error) {\n",
              "        console.error('Error during call to suggestCharts:', error);\n",
              "      }\n",
              "      quickchartButtonEl.classList.remove('colab-df-spinner');\n",
              "      quickchartButtonEl.classList.add('colab-df-quickchart-complete');\n",
              "    }\n",
              "    (() => {\n",
              "      let quickchartButtonEl =\n",
              "        document.querySelector('#df-5977cecb-d7bf-4be9-83e8-e99be706d0e9 button');\n",
              "      quickchartButtonEl.style.display =\n",
              "        google.colab.kernel.accessAllowed ? 'block' : 'none';\n",
              "    })();\n",
              "  </script>\n",
              "</div>\n",
              "    </div>\n",
              "  </div>\n"
            ]
          },
          "metadata": {},
          "execution_count": 18
        }
      ],
      "source": [
        "df_neutral.head()"
      ]
    },
    {
      "cell_type": "code",
      "execution_count": null,
      "metadata": {
        "id": "mc4SDjTEuT6E"
      },
      "outputs": [],
      "source": [
        "def preprocess(tweet):\n",
        "    # Many tweets from radical dataset starts with 'ENGLISHT RANSLATION:', remove this\n",
        "    tweet = re.sub(r'ENGLISH TRANSLATION:','', tweet)\n",
        "\n",
        "    # Remove link, user and special characters\n",
        "    tweet = re.sub('@\\S+|https?:\\S+|http?:\\S|[^A-Za-z0-9]+', ' ', str(tweet).lower()).strip()\n",
        "    tokens = []\n",
        "\n",
        "    # Remove stopwords and stem words\n",
        "    for token in tweet.split():\n",
        "        if token and token not in stopwords.words(\"english\"):\n",
        "              tokens.append(stemmer.stem(token))\n",
        "    return \" \".join(tokens)"
      ]
    },
    {
      "cell_type": "code",
      "execution_count": null,
      "metadata": {
        "id": "SAPQOxpzKwRu"
      },
      "outputs": [],
      "source": [
        "# Preprocess the column containing the tweets\n",
        "df_radical['tweets'] = df_radical['tweets'].apply(preprocess)\n",
        "df_neutral['tweets'] = df_neutral['tweets'].apply(preprocess)\n",
        "\n",
        "# Combine the datasets\n",
        "df_all_tweets = pd.concat([df_radical, df_neutral])"
      ]
    },
    {
      "cell_type": "code",
      "execution_count": null,
      "metadata": {
        "colab": {
          "base_uri": "https://localhost:8080/",
          "height": 206
        },
        "id": "lqJW4TRvtF6G",
        "outputId": "05e23c38-1f5a-4150-8c72-40b02f3f80ca"
      },
      "outputs": [
        {
          "output_type": "execute_result",
          "data": {
            "text/plain": [
              "                                              tweets  is_radical\n",
              "0     messag truth syria sheikh abu muham al maqdisi           1\n",
              "1  sheikh fatih al jawlani peopl integr sacrific ...           1\n",
              "2        first audio meet sheikh fatih al jawlani ha           1\n",
              "3  sheikh nasir al wuhayshi ha leader aqap promis...           1\n",
              "4  aqap respons sheikh baghdadi statement althoug...           1"
            ],
            "text/html": [
              "\n",
              "  <div id=\"df-11bf5a1f-c0f5-4646-8e81-3f8d22d01b49\" class=\"colab-df-container\">\n",
              "    <div>\n",
              "<style scoped>\n",
              "    .dataframe tbody tr th:only-of-type {\n",
              "        vertical-align: middle;\n",
              "    }\n",
              "\n",
              "    .dataframe tbody tr th {\n",
              "        vertical-align: top;\n",
              "    }\n",
              "\n",
              "    .dataframe thead th {\n",
              "        text-align: right;\n",
              "    }\n",
              "</style>\n",
              "<table border=\"1\" class=\"dataframe\">\n",
              "  <thead>\n",
              "    <tr style=\"text-align: right;\">\n",
              "      <th></th>\n",
              "      <th>tweets</th>\n",
              "      <th>is_radical</th>\n",
              "    </tr>\n",
              "  </thead>\n",
              "  <tbody>\n",
              "    <tr>\n",
              "      <th>0</th>\n",
              "      <td>messag truth syria sheikh abu muham al maqdisi</td>\n",
              "      <td>1</td>\n",
              "    </tr>\n",
              "    <tr>\n",
              "      <th>1</th>\n",
              "      <td>sheikh fatih al jawlani peopl integr sacrific ...</td>\n",
              "      <td>1</td>\n",
              "    </tr>\n",
              "    <tr>\n",
              "      <th>2</th>\n",
              "      <td>first audio meet sheikh fatih al jawlani ha</td>\n",
              "      <td>1</td>\n",
              "    </tr>\n",
              "    <tr>\n",
              "      <th>3</th>\n",
              "      <td>sheikh nasir al wuhayshi ha leader aqap promis...</td>\n",
              "      <td>1</td>\n",
              "    </tr>\n",
              "    <tr>\n",
              "      <th>4</th>\n",
              "      <td>aqap respons sheikh baghdadi statement althoug...</td>\n",
              "      <td>1</td>\n",
              "    </tr>\n",
              "  </tbody>\n",
              "</table>\n",
              "</div>\n",
              "    <div class=\"colab-df-buttons\">\n",
              "\n",
              "  <div class=\"colab-df-container\">\n",
              "    <button class=\"colab-df-convert\" onclick=\"convertToInteractive('df-11bf5a1f-c0f5-4646-8e81-3f8d22d01b49')\"\n",
              "            title=\"Convert this dataframe to an interactive table.\"\n",
              "            style=\"display:none;\">\n",
              "\n",
              "  <svg xmlns=\"http://www.w3.org/2000/svg\" height=\"24px\" viewBox=\"0 -960 960 960\">\n",
              "    <path d=\"M120-120v-720h720v720H120Zm60-500h600v-160H180v160Zm220 220h160v-160H400v160Zm0 220h160v-160H400v160ZM180-400h160v-160H180v160Zm440 0h160v-160H620v160ZM180-180h160v-160H180v160Zm440 0h160v-160H620v160Z\"/>\n",
              "  </svg>\n",
              "    </button>\n",
              "\n",
              "  <style>\n",
              "    .colab-df-container {\n",
              "      display:flex;\n",
              "      gap: 12px;\n",
              "    }\n",
              "\n",
              "    .colab-df-convert {\n",
              "      background-color: #E8F0FE;\n",
              "      border: none;\n",
              "      border-radius: 50%;\n",
              "      cursor: pointer;\n",
              "      display: none;\n",
              "      fill: #1967D2;\n",
              "      height: 32px;\n",
              "      padding: 0 0 0 0;\n",
              "      width: 32px;\n",
              "    }\n",
              "\n",
              "    .colab-df-convert:hover {\n",
              "      background-color: #E2EBFA;\n",
              "      box-shadow: 0px 1px 2px rgba(60, 64, 67, 0.3), 0px 1px 3px 1px rgba(60, 64, 67, 0.15);\n",
              "      fill: #174EA6;\n",
              "    }\n",
              "\n",
              "    .colab-df-buttons div {\n",
              "      margin-bottom: 4px;\n",
              "    }\n",
              "\n",
              "    [theme=dark] .colab-df-convert {\n",
              "      background-color: #3B4455;\n",
              "      fill: #D2E3FC;\n",
              "    }\n",
              "\n",
              "    [theme=dark] .colab-df-convert:hover {\n",
              "      background-color: #434B5C;\n",
              "      box-shadow: 0px 1px 3px 1px rgba(0, 0, 0, 0.15);\n",
              "      filter: drop-shadow(0px 1px 2px rgba(0, 0, 0, 0.3));\n",
              "      fill: #FFFFFF;\n",
              "    }\n",
              "  </style>\n",
              "\n",
              "    <script>\n",
              "      const buttonEl =\n",
              "        document.querySelector('#df-11bf5a1f-c0f5-4646-8e81-3f8d22d01b49 button.colab-df-convert');\n",
              "      buttonEl.style.display =\n",
              "        google.colab.kernel.accessAllowed ? 'block' : 'none';\n",
              "\n",
              "      async function convertToInteractive(key) {\n",
              "        const element = document.querySelector('#df-11bf5a1f-c0f5-4646-8e81-3f8d22d01b49');\n",
              "        const dataTable =\n",
              "          await google.colab.kernel.invokeFunction('convertToInteractive',\n",
              "                                                    [key], {});\n",
              "        if (!dataTable) return;\n",
              "\n",
              "        const docLinkHtml = 'Like what you see? Visit the ' +\n",
              "          '<a target=\"_blank\" href=https://colab.research.google.com/notebooks/data_table.ipynb>data table notebook</a>'\n",
              "          + ' to learn more about interactive tables.';\n",
              "        element.innerHTML = '';\n",
              "        dataTable['output_type'] = 'display_data';\n",
              "        await google.colab.output.renderOutput(dataTable, element);\n",
              "        const docLink = document.createElement('div');\n",
              "        docLink.innerHTML = docLinkHtml;\n",
              "        element.appendChild(docLink);\n",
              "      }\n",
              "    </script>\n",
              "  </div>\n",
              "\n",
              "\n",
              "<div id=\"df-487ddd7d-4d3c-49e6-bb4c-874190045c38\">\n",
              "  <button class=\"colab-df-quickchart\" onclick=\"quickchart('df-487ddd7d-4d3c-49e6-bb4c-874190045c38')\"\n",
              "            title=\"Suggest charts\"\n",
              "            style=\"display:none;\">\n",
              "\n",
              "<svg xmlns=\"http://www.w3.org/2000/svg\" height=\"24px\"viewBox=\"0 0 24 24\"\n",
              "     width=\"24px\">\n",
              "    <g>\n",
              "        <path d=\"M19 3H5c-1.1 0-2 .9-2 2v14c0 1.1.9 2 2 2h14c1.1 0 2-.9 2-2V5c0-1.1-.9-2-2-2zM9 17H7v-7h2v7zm4 0h-2V7h2v10zm4 0h-2v-4h2v4z\"/>\n",
              "    </g>\n",
              "</svg>\n",
              "  </button>\n",
              "\n",
              "<style>\n",
              "  .colab-df-quickchart {\n",
              "      --bg-color: #E8F0FE;\n",
              "      --fill-color: #1967D2;\n",
              "      --hover-bg-color: #E2EBFA;\n",
              "      --hover-fill-color: #174EA6;\n",
              "      --disabled-fill-color: #AAA;\n",
              "      --disabled-bg-color: #DDD;\n",
              "  }\n",
              "\n",
              "  [theme=dark] .colab-df-quickchart {\n",
              "      --bg-color: #3B4455;\n",
              "      --fill-color: #D2E3FC;\n",
              "      --hover-bg-color: #434B5C;\n",
              "      --hover-fill-color: #FFFFFF;\n",
              "      --disabled-bg-color: #3B4455;\n",
              "      --disabled-fill-color: #666;\n",
              "  }\n",
              "\n",
              "  .colab-df-quickchart {\n",
              "    background-color: var(--bg-color);\n",
              "    border: none;\n",
              "    border-radius: 50%;\n",
              "    cursor: pointer;\n",
              "    display: none;\n",
              "    fill: var(--fill-color);\n",
              "    height: 32px;\n",
              "    padding: 0;\n",
              "    width: 32px;\n",
              "  }\n",
              "\n",
              "  .colab-df-quickchart:hover {\n",
              "    background-color: var(--hover-bg-color);\n",
              "    box-shadow: 0 1px 2px rgba(60, 64, 67, 0.3), 0 1px 3px 1px rgba(60, 64, 67, 0.15);\n",
              "    fill: var(--button-hover-fill-color);\n",
              "  }\n",
              "\n",
              "  .colab-df-quickchart-complete:disabled,\n",
              "  .colab-df-quickchart-complete:disabled:hover {\n",
              "    background-color: var(--disabled-bg-color);\n",
              "    fill: var(--disabled-fill-color);\n",
              "    box-shadow: none;\n",
              "  }\n",
              "\n",
              "  .colab-df-spinner {\n",
              "    border: 2px solid var(--fill-color);\n",
              "    border-color: transparent;\n",
              "    border-bottom-color: var(--fill-color);\n",
              "    animation:\n",
              "      spin 1s steps(1) infinite;\n",
              "  }\n",
              "\n",
              "  @keyframes spin {\n",
              "    0% {\n",
              "      border-color: transparent;\n",
              "      border-bottom-color: var(--fill-color);\n",
              "      border-left-color: var(--fill-color);\n",
              "    }\n",
              "    20% {\n",
              "      border-color: transparent;\n",
              "      border-left-color: var(--fill-color);\n",
              "      border-top-color: var(--fill-color);\n",
              "    }\n",
              "    30% {\n",
              "      border-color: transparent;\n",
              "      border-left-color: var(--fill-color);\n",
              "      border-top-color: var(--fill-color);\n",
              "      border-right-color: var(--fill-color);\n",
              "    }\n",
              "    40% {\n",
              "      border-color: transparent;\n",
              "      border-right-color: var(--fill-color);\n",
              "      border-top-color: var(--fill-color);\n",
              "    }\n",
              "    60% {\n",
              "      border-color: transparent;\n",
              "      border-right-color: var(--fill-color);\n",
              "    }\n",
              "    80% {\n",
              "      border-color: transparent;\n",
              "      border-right-color: var(--fill-color);\n",
              "      border-bottom-color: var(--fill-color);\n",
              "    }\n",
              "    90% {\n",
              "      border-color: transparent;\n",
              "      border-bottom-color: var(--fill-color);\n",
              "    }\n",
              "  }\n",
              "</style>\n",
              "\n",
              "  <script>\n",
              "    async function quickchart(key) {\n",
              "      const quickchartButtonEl =\n",
              "        document.querySelector('#' + key + ' button');\n",
              "      quickchartButtonEl.disabled = true;  // To prevent multiple clicks.\n",
              "      quickchartButtonEl.classList.add('colab-df-spinner');\n",
              "      try {\n",
              "        const charts = await google.colab.kernel.invokeFunction(\n",
              "            'suggestCharts', [key], {});\n",
              "      } catch (error) {\n",
              "        console.error('Error during call to suggestCharts:', error);\n",
              "      }\n",
              "      quickchartButtonEl.classList.remove('colab-df-spinner');\n",
              "      quickchartButtonEl.classList.add('colab-df-quickchart-complete');\n",
              "    }\n",
              "    (() => {\n",
              "      let quickchartButtonEl =\n",
              "        document.querySelector('#df-487ddd7d-4d3c-49e6-bb4c-874190045c38 button');\n",
              "      quickchartButtonEl.style.display =\n",
              "        google.colab.kernel.accessAllowed ? 'block' : 'none';\n",
              "    })();\n",
              "  </script>\n",
              "</div>\n",
              "    </div>\n",
              "  </div>\n"
            ]
          },
          "metadata": {},
          "execution_count": 21
        }
      ],
      "source": [
        "df_all_tweets.head()"
      ]
    },
    {
      "cell_type": "markdown",
      "metadata": {
        "id": "gFVPmOqOf-sQ"
      },
      "source": [
        "## Splitting of Data\n",
        "The neutral and radical datasets are merged. For training and testing the model, the dataset needs to be divided into training and testing.\n",
        "The train_test _split method divides the data randomly by shuffling the data before dividing the dataset. The shuffling is controlled by the parameter called random state.\n",
        "\n",
        "75% of the data was used to train the model and the remaining 25% for training."
      ]
    },
    {
      "cell_type": "code",
      "execution_count": null,
      "metadata": {
        "id": "fsGzPNrUh6qL"
      },
      "outputs": [],
      "source": [
        "train_data, test_data = train_test_split(df_all_tweets, test_size=0.25, random_state=42)"
      ]
    },
    {
      "cell_type": "markdown",
      "metadata": {
        "id": "IwLFs6LD9qXE"
      },
      "source": [
        "# Creating Word2Vec features"
      ]
    },
    {
      "cell_type": "markdown",
      "metadata": {
        "id": "mvgG8-v1IoJk"
      },
      "source": [
        "## Initialize the model\n",
        "Building a Word2Vec using CBOW, and not skip grams. The variables (and choice of CBOW instead of skip grams) are based on Løvås (2022) master thesis *Recognizing Social Media Right-Wing Radicalization*, due to her building a Word2Vec on similar data"
      ]
    },
    {
      "cell_type": "code",
      "execution_count": null,
      "metadata": {
        "id": "T9XDczfUOFHC"
      },
      "outputs": [],
      "source": [
        "w2v_model = Word2Vec(vector_size=50, window=5, min_count=7, workers=4)"
      ]
    },
    {
      "cell_type": "markdown",
      "metadata": {
        "id": "27mR3aYBKKuc"
      },
      "source": [
        "### Building the vocabulary\n",
        "This is a list of all the unique words in the training dataset."
      ]
    },
    {
      "cell_type": "code",
      "execution_count": null,
      "metadata": {
        "id": "3FxurnWi4CRr"
      },
      "outputs": [],
      "source": [
        "# Preprocess the tweets so they are on the right format\n",
        "documents = train_data['tweets'].apply(gensim.utils.simple_preprocess)"
      ]
    },
    {
      "cell_type": "code",
      "execution_count": null,
      "metadata": {
        "id": "NggM9v-c0jtq"
      },
      "outputs": [],
      "source": [
        "# Build the vocabulary\n",
        "w2v_model.build_vocab(documents)"
      ]
    },
    {
      "cell_type": "code",
      "execution_count": null,
      "metadata": {
        "colab": {
          "base_uri": "https://localhost:8080/"
        },
        "id": "T0s8jZl_kDfm",
        "outputId": "7f6bc423-2c25-4080-c01e-6cae3c727560"
      },
      "outputs": [
        {
          "output_type": "stream",
          "name": "stdout",
          "text": [
            "Vocab size 8632\n"
          ]
        }
      ],
      "source": [
        "vocabulary = w2v_model.wv.index_to_key\n",
        "print(\"Vocab size\", len(vocabulary))"
      ]
    },
    {
      "cell_type": "markdown",
      "metadata": {
        "id": "aqORLJeSJnWK"
      },
      "source": [
        "## Training the model"
      ]
    },
    {
      "cell_type": "code",
      "execution_count": null,
      "metadata": {
        "colab": {
          "base_uri": "https://localhost:8080/"
        },
        "id": "m-6kxFMxmXaD",
        "outputId": "3cc6e66e-9b0d-458e-dcf5-13f68dbac603"
      },
      "outputs": [
        {
          "output_type": "execute_result",
          "data": {
            "text/plain": [
              "(153694724, 181639000)"
            ]
          },
          "metadata": {},
          "execution_count": 27
        }
      ],
      "source": [
        "w2v_model.train(documents, total_examples=len(documents), epochs=200)"
      ]
    },
    {
      "cell_type": "code",
      "execution_count": null,
      "metadata": {
        "id": "9FlWCTb2z8WU"
      },
      "outputs": [],
      "source": [
        "# Save the model\n",
        "w2v_model.save('w2v.model')"
      ]
    },
    {
      "cell_type": "markdown",
      "metadata": {
        "id": "sDqRP3phNcvQ"
      },
      "source": [
        "## Testing the word embedddings using common examples"
      ]
    },
    {
      "cell_type": "code",
      "execution_count": null,
      "metadata": {
        "colab": {
          "base_uri": "https://localhost:8080/"
        },
        "id": "XhXqqFndmarm",
        "outputId": "f196dff5-122f-43b1-8e08-e7518d8e64fc"
      },
      "outputs": [
        {
          "output_type": "execute_result",
          "data": {
            "text/plain": [
              "[('amaz', 0.8080103993415833),\n",
              " ('joe', 0.6082406044006348),\n",
              " ('awesom', 0.6058202385902405),\n",
              " ('lt', 0.5930392146110535),\n",
              " ('youu', 0.5735889673233032),\n",
              " ('cute', 0.565858781337738),\n",
              " ('fave', 0.557339072227478),\n",
              " ('listen', 0.5563586354255676),\n",
              " ('ador', 0.5506844520568848),\n",
              " ('beauti', 0.5321146845817566)]"
            ]
          },
          "metadata": {},
          "execution_count": 29
        }
      ],
      "source": [
        "w2v_model.wv.most_similar(\"love\")"
      ]
    },
    {
      "cell_type": "code",
      "execution_count": null,
      "metadata": {
        "colab": {
          "base_uri": "https://localhost:8080/"
        },
        "id": "JRAwGiEEm6rK",
        "outputId": "35a46275-e8c4-4c23-eb0d-87c5b86a6215"
      },
      "outputs": [
        {
          "output_type": "execute_result",
          "data": {
            "text/plain": [
              "[('suck', 0.6669291257858276),\n",
              " ('urgh', 0.583250880241394),\n",
              " ('stupid', 0.5807167887687683),\n",
              " ('mean', 0.5346332788467407),\n",
              " ('ew', 0.5311275124549866),\n",
              " ('frustrat', 0.5203628540039062),\n",
              " ('ugh', 0.5183155536651611),\n",
              " ('ughh', 0.5126990675926208),\n",
              " ('ughhhh', 0.5101489424705505),\n",
              " ('annoy', 0.5035639405250549)]"
            ]
          },
          "metadata": {},
          "execution_count": 30
        }
      ],
      "source": [
        "w2v_model.wv.most_similar(\"hate\")"
      ]
    },
    {
      "cell_type": "code",
      "execution_count": null,
      "metadata": {
        "colab": {
          "base_uri": "https://localhost:8080/"
        },
        "id": "CmeZSTEa9_XP",
        "outputId": "3f06f853-519b-4fe6-ed36-9c41b4886759"
      },
      "outputs": [
        {
          "output_type": "execute_result",
          "data": {
            "text/plain": [
              "[('unit', 0.7061165571212769),\n",
              " ('disbeliev', 0.675429105758667),\n",
              " ('western', 0.62749844789505),\n",
              " ('arab', 0.6244881749153137),\n",
              " ('cleric', 0.6021163463592529),\n",
              " ('sharia', 0.595458447933197),\n",
              " ('isi', 0.5939327478408813),\n",
              " ('isil', 0.5726152658462524),\n",
              " ('ottoman', 0.5697242617607117),\n",
              " ('secular', 0.566383957862854)]"
            ]
          },
          "metadata": {},
          "execution_count": 31
        }
      ],
      "source": [
        "w2v_model.wv.most_similar(\"islam\")"
      ]
    },
    {
      "cell_type": "code",
      "execution_count": null,
      "metadata": {
        "colab": {
          "base_uri": "https://localhost:8080/"
        },
        "id": "5VoHnHYNfbwV",
        "outputId": "07deba0c-b3e2-486f-e4ca-7d56cddb168e"
      },
      "outputs": [
        {
          "output_type": "execute_result",
          "data": {
            "text/plain": [
              "[('king', 0.7970002889633179),\n",
              " ('hollywood', 0.5840782523155212),\n",
              " ('starship', 0.5125117301940918),\n",
              " ('woman', 0.504909098148346),\n",
              " ('terrorist', 0.4852336049079895),\n",
              " ('crusad', 0.4643128216266632),\n",
              " ('marin', 0.4606281518936157),\n",
              " ('bob', 0.45672500133514404),\n",
              " ('owner', 0.4549293518066406),\n",
              " ('crown', 0.45178279280662537)]"
            ]
          },
          "metadata": {},
          "execution_count": 32
        }
      ],
      "source": [
        "vec = w2v_model.wv['king'] - w2v_model.wv['man'] + w2v_model.wv['woman']\n",
        "w2v_model.wv.most_similar([vec])"
      ]
    },
    {
      "cell_type": "markdown",
      "metadata": {
        "id": "UHZXiJSiO5gj"
      },
      "source": [
        "## Creating a word vector for each tweet\n",
        "Converting the tweets to vectors by calculating the average word vector of all the words in the tweet. The average word vector is then assigned to the corresponding tweet.\n",
        "\n",
        "The word vector represetning each tweet will be the input to the artificial neural network (ANN)."
      ]
    },
    {
      "cell_type": "code",
      "execution_count": null,
      "metadata": {
        "id": "zSQi-rw8K6ka"
      },
      "outputs": [],
      "source": [
        "def tweet_to_vector(tweet, model, vocabulary):\n",
        "  # Adjust the size to the model's vector size\n",
        "  vectorized_tweet = np.zeros(model.vector_size)\n",
        "\n",
        "  # Convert the tweets to a vector of the words\n",
        "  words = tweet.split()\n",
        "  word_count = 0\n",
        "\n",
        "  # Calculate how many words in the tweet are in the vocabulary\n",
        "  for word in words:\n",
        "    if word in vocabulary:\n",
        "      vectorized_tweet += model.wv[word]\n",
        "      word_count += 1\n",
        "\n",
        "  # Calculate the average vector\n",
        "  if word_count > 0:\n",
        "    vectorized_tweet /= word_count\n",
        "\n",
        "  return vectorized_tweet\n"
      ]
    },
    {
      "cell_type": "markdown",
      "metadata": {
        "id": "71JJxcDsO5bX"
      },
      "source": [
        "Adding a column in the dataframe for the word vector of each tweet"
      ]
    },
    {
      "cell_type": "code",
      "execution_count": null,
      "metadata": {
        "id": "niU25e7NkOFa"
      },
      "outputs": [],
      "source": [
        "train_data['vectors'] = train_data['tweets'].apply(lambda tweet: tweet_to_vector(tweet, w2v_model, vocabulary))\n",
        "test_data['vectors'] = test_data['tweets'].apply(lambda tweet: tweet_to_vector(tweet, w2v_model, vocabulary))"
      ]
    },
    {
      "cell_type": "markdown",
      "source": [
        "# Create BoW features"
      ],
      "metadata": {
        "id": "-O6zksJcuebR"
      }
    },
    {
      "cell_type": "code",
      "source": [
        "# Create a Bag of Words model, that transform a text corpus to a matrix of counts\n",
        "bow_vectorizer = CountVectorizer(max_features=1000)\n",
        "\n",
        "# Fit the vectorizer on the training data\n",
        "bow_vectorizer.fit(train_data['tweets'])\n",
        "\n",
        "# Transform training and test data into BoW vectors\n",
        "X_train_bow = bow_vectorizer.transform(train_data['tweets']).toarray()\n",
        "X_test_bow = bow_vectorizer.transform(test_data['tweets']).toarray()\n"
      ],
      "metadata": {
        "id": "B35ZoDg-ucY5"
      },
      "execution_count": null,
      "outputs": []
    },
    {
      "cell_type": "markdown",
      "metadata": {
        "id": "3PhoAIL7FVRz"
      },
      "source": [
        "# ANN Model training and evaluation"
      ]
    },
    {
      "cell_type": "markdown",
      "metadata": {
        "id": "cFN7PVb2sTJq"
      },
      "source": [
        "Train and evluate an ANN model to classify the vectorized tweets"
      ]
    },
    {
      "cell_type": "code",
      "execution_count": null,
      "metadata": {
        "id": "_Lc-RzJpktmm"
      },
      "outputs": [],
      "source": [
        "# Prepare the final input features for the neural network\n",
        "X_train_w2v = np.vstack(train_data['vectors'].values)\n",
        "X_test_w2v = np.vstack(test_data['vectors'].values)\n",
        "y_train = train_data['is_radical'].values\n",
        "y_test = test_data['is_radical'].values"
      ]
    },
    {
      "cell_type": "markdown",
      "metadata": {
        "id": "hLJu3_cWsoyB"
      },
      "source": [
        "## Building the ANN models, one with Word2Vec as input, the other with BoW"
      ]
    },
    {
      "cell_type": "markdown",
      "metadata": {
        "id": "tmNt7RzXb4mC"
      },
      "source": [
        "The parameters are based on the best performing model in Løvås' (2022) master thesis *Recognizing Social Media Right-Wing Radicalization*, due to her building a ANN on similar data\n",
        "\n",
        "Parameters:\n",
        "- Activation functions: ReLu for all layers except for the output layer where Softmax was used.\n",
        "- Optimizer: Adam, løvås tried both Adam and SGD, the model using Adam had the least false positives (neutral posts classified as radical)\n",
        "- Loss: Sparse Categorical Crossentropy\n",
        "- Learning Rate: ExponentialDecay, increases the learning ratee durting training\n",
        "- The dropout Rate is set to 0.5"
      ]
    },
    {
      "cell_type": "code",
      "execution_count": null,
      "metadata": {
        "id": "FZaj12EEsuJV"
      },
      "outputs": [],
      "source": [
        "# Define the model architecture, with word2vec as input\n",
        "nn_model_w2v = keras.Sequential([\n",
        "    layers.Dense(32, activation='relu', input_shape=(X_train_w2v.shape[1],)),\n",
        "    layers.Dropout(0.5),\n",
        "    layers.Dense(16, activation='relu'),\n",
        "    layers.Dropout(0.5),\n",
        "    layers.Dense(2, activation='softmax')\n",
        "])\n",
        "\n",
        "# Define the learning rate schedule\n",
        "initial_learning_rate = 0.001\n",
        "decay_steps = 1000\n",
        "decay_rate = 0.96\n",
        "\n",
        "lr_schedule = keras.optimizers.schedules.ExponentialDecay(\n",
        "    initial_learning_rate,\n",
        "    decay_steps=decay_steps,\n",
        "    decay_rate=decay_rate,\n",
        "    staircase=True\n",
        ")\n",
        "\n",
        "# Building the model\n",
        "nn_model_w2v.compile(\n",
        "    optimizer=keras.optimizers.Adam(learning_rate=lr_schedule),\n",
        "    loss='sparse_categorical_crossentropy',\n",
        "    metrics=['accuracy']\n",
        ")"
      ]
    },
    {
      "cell_type": "code",
      "source": [
        "# Define the model architecture, with BoW as input\n",
        "nn_model_bow = keras.Sequential([\n",
        "    layers.Dense(32, activation='relu', input_shape=(X_train_bow.shape[1],)),\n",
        "    layers.Dropout(0.5),\n",
        "    layers.Dense(16, activation='relu'),\n",
        "    layers.Dropout(0.5),\n",
        "    layers.Dense(2, activation='softmax')\n",
        "])\n",
        "\n",
        "# Building the model\n",
        "nn_model_bow.compile(\n",
        "    optimizer=keras.optimizers.Adam(learning_rate=lr_schedule),\n",
        "    loss='sparse_categorical_crossentropy',\n",
        "    metrics=['accuracy']\n",
        ")"
      ],
      "metadata": {
        "id": "PfyLin36vQV9"
      },
      "execution_count": null,
      "outputs": []
    },
    {
      "cell_type": "code",
      "execution_count": null,
      "metadata": {
        "colab": {
          "base_uri": "https://localhost:8080/"
        },
        "id": "N_c23igEezHy",
        "outputId": "ae4bd684-9a7c-42ae-ec27-d96a39f3dea6"
      },
      "outputs": [
        {
          "output_type": "stream",
          "name": "stdout",
          "text": [
            "Epoch 1/15\n",
            "3924/3924 [==============================] - 13s 3ms/step - loss: 0.0818 - accuracy: 0.9752 - val_loss: 0.0667 - val_accuracy: 0.9801\n",
            "Epoch 2/15\n",
            "3924/3924 [==============================] - 14s 4ms/step - loss: 0.0807 - accuracy: 0.9758 - val_loss: 0.0666 - val_accuracy: 0.9800\n",
            "Epoch 3/15\n",
            "3924/3924 [==============================] - 14s 4ms/step - loss: 0.0801 - accuracy: 0.9757 - val_loss: 0.0668 - val_accuracy: 0.9802\n",
            "Epoch 4/15\n",
            "3924/3924 [==============================] - 15s 4ms/step - loss: 0.0818 - accuracy: 0.9757 - val_loss: 0.0667 - val_accuracy: 0.9801\n",
            "Epoch 5/15\n",
            "3924/3924 [==============================] - 13s 3ms/step - loss: 0.0806 - accuracy: 0.9757 - val_loss: 0.0668 - val_accuracy: 0.9802\n",
            "Epoch 6/15\n",
            "3924/3924 [==============================] - 14s 4ms/step - loss: 0.0806 - accuracy: 0.9759 - val_loss: 0.0667 - val_accuracy: 0.9801\n",
            "Epoch 7/15\n",
            "3924/3924 [==============================] - 14s 4ms/step - loss: 0.0805 - accuracy: 0.9750 - val_loss: 0.0667 - val_accuracy: 0.9801\n",
            "Epoch 8/15\n",
            "3924/3924 [==============================] - 15s 4ms/step - loss: 0.0807 - accuracy: 0.9752 - val_loss: 0.0668 - val_accuracy: 0.9801\n",
            "Epoch 9/15\n",
            "3924/3924 [==============================] - 14s 3ms/step - loss: 0.0805 - accuracy: 0.9757 - val_loss: 0.0667 - val_accuracy: 0.9801\n",
            "Epoch 10/15\n",
            "3924/3924 [==============================] - 15s 4ms/step - loss: 0.0799 - accuracy: 0.9758 - val_loss: 0.0667 - val_accuracy: 0.9801\n",
            "Epoch 11/15\n",
            "3924/3924 [==============================] - 15s 4ms/step - loss: 0.0803 - accuracy: 0.9758 - val_loss: 0.0667 - val_accuracy: 0.9800\n",
            "Epoch 12/15\n",
            "3924/3924 [==============================] - 13s 3ms/step - loss: 0.0791 - accuracy: 0.9759 - val_loss: 0.0668 - val_accuracy: 0.9801\n",
            "Epoch 13/15\n",
            "3924/3924 [==============================] - 14s 4ms/step - loss: 0.0815 - accuracy: 0.9751 - val_loss: 0.0668 - val_accuracy: 0.9801\n",
            "Epoch 14/15\n",
            "3924/3924 [==============================] - 13s 3ms/step - loss: 0.0811 - accuracy: 0.9753 - val_loss: 0.0668 - val_accuracy: 0.9801\n",
            "Epoch 15/15\n",
            "3924/3924 [==============================] - 13s 3ms/step - loss: 0.0810 - accuracy: 0.9756 - val_loss: 0.0668 - val_accuracy: 0.9801\n"
          ]
        }
      ],
      "source": [
        "# Train the model, epochs is set to 15, however Løvås userd 150.\n",
        "# Since the accuracy is pretty stable for all the epochs,\n",
        "# it was decided that 15 was enough for this 'small' project\n",
        "history_w2v = nn_model_w2v.fit(\n",
        "    X_train_w2v,\n",
        "    y_train,\n",
        "    epochs=15,\n",
        "    validation_data=(X_test_w2v, y_test)\n",
        ")"
      ]
    },
    {
      "cell_type": "code",
      "source": [
        "history_bow = nn_model_bow.fit(\n",
        "    X_train_bow,\n",
        "    y_train,\n",
        "    epochs=15,\n",
        "    validation_data=(X_test_bow, y_test)\n",
        ")"
      ],
      "metadata": {
        "colab": {
          "base_uri": "https://localhost:8080/"
        },
        "id": "RQZI3ROu4A27",
        "outputId": "0575912f-cef6-4726-a990-668a7cb40d4b"
      },
      "execution_count": null,
      "outputs": [
        {
          "output_type": "stream",
          "name": "stdout",
          "text": [
            "Epoch 1/15\n",
            "3924/3924 [==============================] - 17s 4ms/step - loss: 0.1463 - accuracy: 0.9538 - val_loss: 0.0916 - val_accuracy: 0.9718\n",
            "Epoch 2/15\n",
            "3924/3924 [==============================] - 14s 4ms/step - loss: 0.1048 - accuracy: 0.9672 - val_loss: 0.0905 - val_accuracy: 0.9722\n",
            "Epoch 3/15\n",
            "3924/3924 [==============================] - 15s 4ms/step - loss: 0.0980 - accuracy: 0.9682 - val_loss: 0.0901 - val_accuracy: 0.9721\n",
            "Epoch 4/15\n",
            "3924/3924 [==============================] - 14s 4ms/step - loss: 0.0963 - accuracy: 0.9683 - val_loss: 0.0907 - val_accuracy: 0.9721\n",
            "Epoch 5/15\n",
            "3924/3924 [==============================] - 17s 4ms/step - loss: 0.0951 - accuracy: 0.9686 - val_loss: 0.0906 - val_accuracy: 0.9721\n",
            "Epoch 6/15\n",
            "3924/3924 [==============================] - 16s 4ms/step - loss: 0.0927 - accuracy: 0.9694 - val_loss: 0.0911 - val_accuracy: 0.9722\n",
            "Epoch 7/15\n",
            "3924/3924 [==============================] - 15s 4ms/step - loss: 0.0920 - accuracy: 0.9698 - val_loss: 0.0914 - val_accuracy: 0.9723\n",
            "Epoch 8/15\n",
            "3924/3924 [==============================] - 15s 4ms/step - loss: 0.0913 - accuracy: 0.9698 - val_loss: 0.0915 - val_accuracy: 0.9725\n",
            "Epoch 9/15\n",
            "3924/3924 [==============================] - 15s 4ms/step - loss: 0.0901 - accuracy: 0.9706 - val_loss: 0.0914 - val_accuracy: 0.9724\n",
            "Epoch 10/15\n",
            "3924/3924 [==============================] - 14s 4ms/step - loss: 0.0906 - accuracy: 0.9699 - val_loss: 0.0917 - val_accuracy: 0.9724\n",
            "Epoch 11/15\n",
            "3924/3924 [==============================] - 15s 4ms/step - loss: 0.0889 - accuracy: 0.9702 - val_loss: 0.0922 - val_accuracy: 0.9724\n",
            "Epoch 12/15\n",
            "3924/3924 [==============================] - 14s 4ms/step - loss: 0.0901 - accuracy: 0.9703 - val_loss: 0.0927 - val_accuracy: 0.9725\n",
            "Epoch 13/15\n",
            "3924/3924 [==============================] - 15s 4ms/step - loss: 0.0885 - accuracy: 0.9707 - val_loss: 0.0923 - val_accuracy: 0.9727\n",
            "Epoch 14/15\n",
            "3924/3924 [==============================] - 15s 4ms/step - loss: 0.0892 - accuracy: 0.9702 - val_loss: 0.0929 - val_accuracy: 0.9725\n",
            "Epoch 15/15\n",
            "3924/3924 [==============================] - 15s 4ms/step - loss: 0.0891 - accuracy: 0.9704 - val_loss: 0.0928 - val_accuracy: 0.9726\n"
          ]
        }
      ]
    },
    {
      "cell_type": "code",
      "execution_count": null,
      "metadata": {
        "colab": {
          "base_uri": "https://localhost:8080/"
        },
        "id": "i0vpcfVwraww",
        "outputId": "9991545e-a13e-499e-f826-fbf03abe61e5"
      },
      "outputs": [
        {
          "output_type": "stream",
          "name": "stdout",
          "text": [
            "1308/1308 - 3s - loss: 0.0668 - accuracy: 0.9801 - 3s/epoch - 2ms/step\n",
            "ANN with Word2Vec\n",
            "Test accuracy: 0.9800969958305359\n",
            "Test loss: 0.06676305085420609\n",
            "1308/1308 - 2s - loss: 0.0928 - accuracy: 0.9726 - 2s/epoch - 2ms/step\n",
            "ANN with BoW\n",
            "Test accuracy: 0.9726423621177673\n",
            "Test loss: 0.09275990724563599\n"
          ]
        }
      ],
      "source": [
        "# Evaluate the ANN with Word2Vec model\n",
        "test_loss_w2v, test_accuracy_w2v = nn_model_w2v.evaluate(X_test_w2v, y_test, verbose=2)\n",
        "print(\"ANN with Word2Vec\")\n",
        "print(f\"Test accuracy: {test_accuracy_w2v}\")\n",
        "print(f\"Test loss: {test_loss_w2v}\")\n",
        "\n",
        "# Evaluate the ANN with BoW model\n",
        "test_loss_bow, test_accuracy_bow = nn_model_bow.evaluate(X_test_bow, y_test, verbose=2)\n",
        "print(\"ANN with BoW\")\n",
        "print(f\"Test accuracy: {test_accuracy_bow}\")\n",
        "print(f\"Test loss: {test_loss_bow}\")"
      ]
    },
    {
      "cell_type": "code",
      "execution_count": null,
      "metadata": {
        "colab": {
          "base_uri": "https://localhost:8080/"
        },
        "id": "ViuCgzoJxkXc",
        "outputId": "47ca064d-8f64-4aa0-eeb5-47c15a4a884a"
      },
      "outputs": [
        {
          "output_type": "stream",
          "name": "stdout",
          "text": [
            "Model: \"sequential\"\n",
            "_________________________________________________________________\n",
            " Layer (type)                Output Shape              Param #   \n",
            "=================================================================\n",
            " dense (Dense)               (None, 32)                1632      \n",
            "                                                                 \n",
            " dropout (Dropout)           (None, 32)                0         \n",
            "                                                                 \n",
            " dense_1 (Dense)             (None, 16)                528       \n",
            "                                                                 \n",
            " dropout_1 (Dropout)         (None, 16)                0         \n",
            "                                                                 \n",
            " dense_2 (Dense)             (None, 2)                 34        \n",
            "                                                                 \n",
            "=================================================================\n",
            "Total params: 2194 (8.57 KB)\n",
            "Trainable params: 2194 (8.57 KB)\n",
            "Non-trainable params: 0 (0.00 Byte)\n",
            "_________________________________________________________________\n",
            "Model: \"sequential_1\"\n",
            "_________________________________________________________________\n",
            " Layer (type)                Output Shape              Param #   \n",
            "=================================================================\n",
            " dense_3 (Dense)             (None, 32)                32032     \n",
            "                                                                 \n",
            " dropout_2 (Dropout)         (None, 32)                0         \n",
            "                                                                 \n",
            " dense_4 (Dense)             (None, 16)                528       \n",
            "                                                                 \n",
            " dropout_3 (Dropout)         (None, 16)                0         \n",
            "                                                                 \n",
            " dense_5 (Dense)             (None, 2)                 34        \n",
            "                                                                 \n",
            "=================================================================\n",
            "Total params: 32594 (127.32 KB)\n",
            "Trainable params: 32594 (127.32 KB)\n",
            "Non-trainable params: 0 (0.00 Byte)\n",
            "_________________________________________________________________\n"
          ]
        }
      ],
      "source": [
        "nn_model_w2v.summary()\n",
        "nn_model_bow.summary()"
      ]
    },
    {
      "cell_type": "code",
      "execution_count": null,
      "metadata": {
        "colab": {
          "base_uri": "https://localhost:8080/",
          "height": 839
        },
        "id": "C3qCWMTdyT5U",
        "outputId": "4287c4dc-44c2-4857-f103-c8bdc572989a"
      },
      "outputs": [
        {
          "output_type": "display_data",
          "data": {
            "text/plain": [
              "<Figure size 1200x400 with 2 Axes>"
            ],
            "image/png": "[encoded data removed]"
          },
          "metadata": {}
        },
        {
          "output_type": "display_data",
          "data": {
            "text/plain": [
              "<Figure size 1200x400 with 2 Axes>"
            ],
            "image/png": "[encoded data removed]"
          },
          "metadata": {}
        }
      ],
      "source": [
        "# Plot training & validation accuracy values\n",
        "\n",
        "accuracy_ylim = (0.955, 0.985)\n",
        "loss_ylim = (0.06, 0.15)\n",
        "\n",
        "plt.figure(figsize=(12, 4))\n",
        "plt.suptitle('ANN with Word2Vec Model Training and Validation Metrics')\n",
        "plt.subplot(1, 2, 1)\n",
        "plt.plot(history_w2v.history['accuracy'])\n",
        "plt.plot(history_w2v.history['val_accuracy'])\n",
        "plt.title('Model accuracy')\n",
        "plt.ylabel('Accuracy')\n",
        "plt.xlabel('Epoch')\n",
        "plt.ylim(accuracy_ylim)\n",
        "plt.legend(['Train', 'Validation'], loc='upper left')\n",
        "\n",
        "plt.subplot(1, 2, 2)\n",
        "plt.plot(history_w2v.history['loss'])\n",
        "plt.plot(history_w2v.history['val_loss'])\n",
        "plt.title('Model loss')\n",
        "plt.ylabel('Loss')\n",
        "plt.ylim(loss_ylim)\n",
        "plt.xlabel('Epoch')\n",
        "plt.legend(['Train', 'Validation'], loc='upper left')\n",
        "\n",
        "plt.show()\n",
        "\n",
        "plt.figure(figsize=(12, 4))\n",
        "plt.suptitle('ANN with BoW Model Training and Validation Metrics')\n",
        "plt.subplot(1, 2, 1)\n",
        "plt.plot(history_bow.history['accuracy'])\n",
        "plt.plot(history_bow.history['val_accuracy'])\n",
        "plt.title('Model accuracy')\n",
        "plt.ylabel('Accuracy')\n",
        "plt.ylim(accuracy_ylim)\n",
        "plt.xlabel('Epoch')\n",
        "plt.legend(['Train', 'Validation'], loc='upper left')\n",
        "\n",
        "plt.subplot(1, 2, 2)\n",
        "plt.plot(history_bow.history['loss'])\n",
        "plt.plot(history_bow.history['val_loss'])\n",
        "plt.title('Model loss')\n",
        "plt.ylabel('Loss')\n",
        "plt.ylim(loss_ylim)\n",
        "plt.xlabel('Epoch')\n",
        "plt.legend(['Train', 'Validation'], loc='upper left')\n",
        "\n",
        "plt.show()"
      ]
    },
    {
      "cell_type": "code",
      "execution_count": null,
      "metadata": {
        "id": "craBpO31gG_D",
        "colab": {
          "base_uri": "https://localhost:8080/",
          "height": 1000
        },
        "outputId": "673883ce-e2c2-45ab-ba79-ce7556677db8"
      },
      "outputs": [
        {
          "output_type": "stream",
          "name": "stdout",
          "text": [
            "1308/1308 [==============================] - 2s 2ms/step\n"
          ]
        },
        {
          "output_type": "display_data",
          "data": {
            "text/plain": [
              "<Figure size 800x800 with 1 Axes>"
            ],
            "image/png": "[encoded data removed]"
          },
          "metadata": {}
        },
        {
          "output_type": "stream",
          "name": "stdout",
          "text": [
            "1308/1308 [==============================] - 4s 3ms/step\n"
          ]
        },
        {
          "output_type": "display_data",
          "data": {
            "text/plain": [
              "<Figure size 800x800 with 1 Axes>"
            ],
            "image/png": "[encoded data removed]"
          },
          "metadata": {}
        }
      ],
      "source": [
        "# Create Confusin Matrix for the W2V model\n",
        "predictions_w2v = nn_model_w2v.predict(X_test_w2v)\n",
        "predicted_classes_w2v = np.argmax(predictions_w2v, axis=1)\n",
        "\n",
        "# Generate the confusion matrix\n",
        "cm_w2v = confusion_matrix(y_test, predicted_classes_w2v)\n",
        "\n",
        "fig, ax = plt.subplots(figsize=(8, 8))\n",
        "sns.heatmap(cm_w2v, annot=True, fmt='d', ax=ax, cmap=plt.cm.Blues, cbar=False)\n",
        "ax.set(xlabel=\"Predicted Label\", ylabel=\"True Label\", title=\"ANN with Word2Vec Confusion Matrix\")\n",
        "plt.yticks(rotation=0)\n",
        "\n",
        "plt.show()\n",
        "\n",
        "# Create Confusion Matrix for the BoW model\n",
        "predictions_bow = nn_model_bow.predict(X_test_bow)\n",
        "predicted_classes_bow = np.argmax(predictions_bow, axis=1)\n",
        "\n",
        "cm_bow = confusion_matrix(y_test, predicted_classes_bow)\n",
        "\n",
        "fig, ax = plt.subplots(figsize=(8, 8))\n",
        "sns.heatmap(cm_bow, annot=True, fmt='d', ax=ax, cmap=plt.cm.Blues, cbar=False)\n",
        "ax.set(xlabel=\"Predicted Label\", ylabel=\"True Label\", title=\"ANNN with BoW Confusion Matrix\")\n",
        "plt.yticks(rotation=0)\n",
        "\n",
        "plt.show()"
      ]
    },
    {
      "cell_type": "code",
      "execution_count": null,
      "metadata": {
        "colab": {
          "base_uri": "https://localhost:8080/"
        },
        "id": "oODyGd_QN5Qt",
        "outputId": "e0b48504-229b-4c2a-83db-1b64efd5527c"
      },
      "outputs": [
        {
          "output_type": "stream",
          "name": "stdout",
          "text": [
            "ANN with Word2Vec:\n",
            "Precision: 0.9661343612334802\n",
            "Recall: 0.831713676226594\n",
            "F1 Score: 0.8938988663864474\n",
            "ANN with BoW:\n",
            "Precision: 0.9714723926380369\n",
            "Recall: 0.7506518132258829\n",
            "F1 Score: 0.8469046663992513\n"
          ]
        }
      ],
      "source": [
        "precision_w2v = precision_score(y_test, predicted_classes_w2v, average='binary')\n",
        "recall_w2v = recall_score(y_test, predicted_classes_w2v, average='binary')\n",
        "f1_w2v = f1_score(y_test, predicted_classes_w2v, average='binary')\n",
        "\n",
        "print(\"ANN with Word2Vec:\")\n",
        "print(f\"Precision: {precision_w2v}\")\n",
        "print(f\"Recall: {recall_w2v}\")\n",
        "print(f\"F1 Score: {f1_w2v}\")\n",
        "\n",
        "precision_bow = precision_score(y_test, predicted_classes_bow, average='binary')\n",
        "recall_bow = recall_score(y_test, predicted_classes_bow, average='binary')\n",
        "f1_bow = f1_score(y_test, predicted_classes_bow, average='binary')\n",
        "\n",
        "print(\"ANN with BoW:\")\n",
        "print(f\"Precision: {precision_bow}\")\n",
        "print(f\"Recall: {recall_bow}\")\n",
        "print(f\"F1 Score: {f1_bow}\")"
      ]
    },
    {
      "cell_type": "markdown",
      "metadata": {
        "id": "HNfJGYdw0H8M"
      },
      "source": [
        "# Baseline Classifier\n",
        "For sammenligningsgrunnlag. Dersom modellen vår slår denne, så har vi en \"god\" modell. Denne tar fordleingen i datasettet som utgangspunkt, og randomly predicter ut fra denne fordelingen."
      ]
    },
    {
      "cell_type": "code",
      "execution_count": null,
      "metadata": {
        "id": "UnnInmQPzcIU"
      },
      "outputs": [],
      "source": [
        "baseline_model = DummyClassifier(strategy='stratified', random_state=42)\n",
        "\n",
        "baseline_model.fit(X_train_w2v, y_train)\n",
        "\n",
        "baseline_predictions = baseline_model.predict(X_test_w2v)\n"
      ]
    },
    {
      "cell_type": "code",
      "source": [
        "cm_baseline = confusion_matrix(y_test, baseline_predictions)\n",
        "\n",
        "plt.figure(figsize=(8, 8))\n",
        "sns.heatmap(cm_baseline, annot=True, fmt='d', cmap=plt.cm.Blues, cbar=False)\n",
        "plt.title('Baseline Classifier Confusion Matrix')\n",
        "plt.xlabel('Predicted Label')\n",
        "plt.ylabel('True Label')\n",
        "plt.show()"
      ],
      "metadata": {
        "colab": {
          "base_uri": "https://localhost:8080/",
          "height": 718
        },
        "id": "eIMcZa3r9C5E",
        "outputId": "549a12e4-8744-4ba4-e63f-078cd338d96c"
      },
      "execution_count": null,
      "outputs": [
        {
          "output_type": "display_data",
          "data": {
            "text/plain": [
              "<Figure size 800x800 with 1 Axes>"
            ],
            "image/png": "[encoded data removed]"
          },
          "metadata": {}
        }
      ]
    },
    {
      "cell_type": "code",
      "execution_count": null,
      "metadata": {
        "id": "Vg_BoO-VOvEk",
        "colab": {
          "base_uri": "https://localhost:8080/"
        },
        "outputId": "58b347d1-ca1a-402d-d47c-5368432107d4"
      },
      "outputs": [
        {
          "output_type": "stream",
          "name": "stdout",
          "text": [
            "Baseline Classifier Accuracy: 0.81\n",
            "Baseline:\n",
            "Precision: 0.09388497385769493\n",
            "Recall: 0.09789049537805167\n",
            "F1 Score: 0.09584590392202366\n"
          ]
        }
      ],
      "source": [
        "baseline_accuracy = accuracy_score(y_test, baseline_predictions)\n",
        "print(f\"Baseline Classifier Accuracy: {baseline_accuracy:.2f}\")\n",
        "\n",
        "baseline_precision = precision_score(y_test, baseline_predictions, average='binary')\n",
        "baseline_recall = recall_score(y_test, baseline_predictions, average='binary')\n",
        "baseline_f1 = f1_score(y_test, baseline_predictions, average='binary')\n",
        "\n",
        "print(\"Baseline:\")\n",
        "print(f\"Precision: {baseline_precision}\")\n",
        "print(f\"Recall: {baseline_recall}\")\n",
        "print(f\"F1 Score: {baseline_f1}\")"
      ]
    }
  ],
  "metadata": {
    "colab": {
      "collapsed_sections": [
        "sDqRP3phNcvQ"
      ],
      "provenance": [],
      "gpuType": "A100"
    },
    "kernelspec": {
      "display_name": "Python 3",
      "name": "python3"
    },
    "language_info": {
      "name": "python"
    },
    "accelerator": "GPU"
  },
  "nbformat": 4,
  "nbformat_minor": 0
}
